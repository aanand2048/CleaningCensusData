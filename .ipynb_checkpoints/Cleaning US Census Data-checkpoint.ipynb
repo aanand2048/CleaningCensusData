{
 "cells": [
  {
   "cell_type": "markdown",
   "metadata": {},
   "source": [
    "# Cleaning US Census Data"
   ]
  },
  {
   "cell_type": "markdown",
   "metadata": {},
   "source": [
    "You just got hired as a Data Analyst at the Census Bureau, which collects census data and creates interesting visualizations and insights from it.\n",
    "\n",
    "The person who had your job before you left you all the data they had for the most recent census. It is in multiple `csv` files. They didn't use pandas, they would just look through these `csv` files manually whenever they wanted to find something. Sometimes they would copy and paste certain numbers into Excel to make charts.\n",
    "\n",
    "The thought of it makes you shiver. This is not scalable or repeatable.\n",
    "\n",
    "Your boss wants you to make some scatterplots and histograms by the end of the day. Can you get this data into `pandas` and into reasonable shape so that you can make these histograms?"
   ]
  },
  {
   "cell_type": "markdown",
   "metadata": {},
   "source": [
    "## Inspect the Data!"
   ]
  },
  {
   "cell_type": "markdown",
   "metadata": {},
   "source": [
    "1. The first visualization your boss wants you to make is a scatterplot that shows average income in a state vs proportion of women in that state.\n",
    "\n",
    "   Open some of the census `csv` files that came with the kit you downloaded. How are they named? What kind of information do they hold? Will they help us make this graph?"
   ]
  },
  {
   "cell_type": "markdown",
   "metadata": {},
   "source": [
    "2. It will be easier to inspect this data once we have it in a DataFrame. You can't even call `.head()` on these `csv`s! How are you supposed to read them?\n",
    "\n",
    "   Loop through the census files available and load them into DataFrames. Then, concatenate all of those DataFrames together."
   ]
  },
  {
   "cell_type": "code",
   "execution_count": 60,
   "metadata": {},
   "outputs": [],
   "source": [
    "import pandas as pd\n",
    "import numpy as np\n",
    "import matplotlib.pyplot as plt\n",
    "import glob\n",
    "\n",
    "census_files = glob.glob(\"states*.csv\")\n",
    "\n",
    "states_list = []\n",
    "for filename in census_files:\n",
    "    data = pd.read_csv(filename)\n",
    "    states_list.append(data)\n",
    "    \n",
    "states = pd.concat(states_list)"
   ]
  },
  {
   "cell_type": "code",
   "execution_count": 61,
   "metadata": {},
   "outputs": [
    {
     "name": "stdout",
     "output_type": "stream",
     "text": [
      "60\n"
     ]
    }
   ],
   "source": [
    "print(len(states))"
   ]
  },
  {
   "cell_type": "markdown",
   "metadata": {},
   "source": [
    "3. Look at the `.columns` and the `.dtypes` of the DataFrame. Are those datatypes going to hinder you as you try to make histograms?"
   ]
  },
  {
   "cell_type": "code",
   "execution_count": 62,
   "metadata": {},
   "outputs": [
    {
     "name": "stdout",
     "output_type": "stream",
     "text": [
      "Unnamed: 0     int64\n",
      "State         object\n",
      "TotalPop       int64\n",
      "Hispanic      object\n",
      "White         object\n",
      "Black         object\n",
      "Native        object\n",
      "Asian         object\n",
      "Pacific       object\n",
      "Income        object\n",
      "GenderPop     object\n",
      "dtype: object\n"
     ]
    }
   ],
   "source": [
    "print(states.dtypes)"
   ]
  },
  {
   "cell_type": "code",
   "execution_count": 63,
   "metadata": {},
   "outputs": [
    {
     "name": "stdout",
     "output_type": "stream",
     "text": [
      "Index(['Unnamed: 0', 'State', 'TotalPop', 'Hispanic', 'White', 'Black',\n",
      "       'Native', 'Asian', 'Pacific', 'Income', 'GenderPop'],\n",
      "      dtype='object')\n"
     ]
    }
   ],
   "source": [
    "print(states.columns)"
   ]
  },
  {
   "cell_type": "markdown",
   "metadata": {},
   "source": [
    "4. Look at the `head()` of the DataFrame so that you can understand why some of these `dtypes` are objects instead of integers or floats.\n",
    "\n",
    "   Start to make a plan for how to convert these columns into the right types for manipulation."
   ]
  },
  {
   "cell_type": "code",
   "execution_count": 64,
   "metadata": {},
   "outputs": [
    {
     "name": "stdout",
     "output_type": "stream",
     "text": [
      "   Unnamed: 0       State  TotalPop Hispanic   White   Black  Native   Asian  \\\n",
      "0           0     Alabama   4830620    3.75%  61.88%  31.25%   0.45%   1.05%   \n",
      "1           1      Alaska    733375    5.91%  60.91%   2.85%  16.39%   5.45%   \n",
      "2           2     Arizona   6641928   29.57%  57.12%   3.85%   4.36%   2.88%   \n",
      "3           3    Arkansas   2958208    6.22%  71.14%  18.97%   0.52%   1.14%   \n",
      "4           4  California  38421464   37.29%  40.22%   5.68%   0.41%  13.05%   \n",
      "\n",
      "  Pacific       Income            GenderPop  \n",
      "0   0.03%  $43,296.36     2341093M_2489527F  \n",
      "1   1.06%  $70,354.74       384160M_349215F  \n",
      "2   0.17%  $54,207.82     3299088M_3342840F  \n",
      "3   0.15%  $41,935.63     1451913M_1506295F  \n",
      "4   0.35%  $67,264.78   19087135M_19334329F  \n"
     ]
    }
   ],
   "source": [
    "print(states.head())"
   ]
  },
  {
   "cell_type": "markdown",
   "metadata": {},
   "source": [
    "Observation: We see that there are \\%, \\$, or letters in most of the variables. Hence, they are objects. If we can separate or remove these, then we could convert them to integers/float."
   ]
  },
  {
   "cell_type": "markdown",
   "metadata": {},
   "source": [
    "## Regex to the Rescue"
   ]
  },
  {
   "cell_type": "markdown",
   "metadata": {},
   "source": [
    "5. Use regex to turn the `Income` column into a format that is ready for conversion into a numerical type."
   ]
  },
  {
   "cell_type": "code",
   "execution_count": 65,
   "metadata": {},
   "outputs": [
    {
     "name": "stdout",
     "output_type": "stream",
     "text": [
      "0    43296.36\n",
      "1    70354.74\n",
      "2    54207.82\n",
      "3    41935.63\n",
      "4    67264.78\n",
      "Name: Income, dtype: float64\n"
     ]
    }
   ],
   "source": [
    "states.Income = states['Income'].replace('[\\$,]', '', regex=True) #removes $ sign\n",
    "\n",
    "states.Income = pd.to_numeric(states.Income) #converts column to numeric\n",
    "\n",
    "print(states.Income.head())"
   ]
  },
  {
   "cell_type": "markdown",
   "metadata": {},
   "source": [
    "6. Look at the `GenderPop` column. We are going to want to separate this into two columns, the `Men` column, and the `Women` column.\n",
    "\n",
    "   Split the column into those two new columns using `str.split` and separating out those results."
   ]
  },
  {
   "cell_type": "code",
   "execution_count": 66,
   "metadata": {},
   "outputs": [],
   "source": [
    "# Create the 'str_split' column\n",
    "gender_split = states.GenderPop.str.split('_') #spliting using the underscore symbol\n",
    " \n",
    "# Create the 'MalePop' column\n",
    "states['MalePop'] = gender_split.str.get(0) #calling the first string from the split\n",
    " \n",
    "# Create the 'FemalePop' column\n",
    "states['FemalePop'] = gender_split.str.get(1) #calling the second string from the split\n",
    "\n",
    "# Drop GenderPop Column\n",
    "states = states.drop('GenderPop',axis=1)"
   ]
  },
  {
   "cell_type": "markdown",
   "metadata": {},
   "source": [
    "7. Convert both of the columns into numerical datatypes.\n",
    "\n",
    "   There is still an `M` or an `F` character in each entry! We should remove those before we convert."
   ]
  },
  {
   "cell_type": "code",
   "execution_count": 67,
   "metadata": {},
   "outputs": [],
   "source": [
    "states.MalePop = states['MalePop'].replace('[M,]', '', regex=True) #removes M from end\n",
    "states.MalePop = pd.to_numeric(states.MalePop) #converts column to numeric\n",
    "\n",
    "states.FemalePop = states['FemalePop'].replace('[F,]', '', regex=True) #removes F from end\n",
    "states.FemalePop = pd.to_numeric(states.FemalePop) #converts column to numeric"
   ]
  },
  {
   "cell_type": "code",
   "execution_count": 68,
   "metadata": {},
   "outputs": [
    {
     "name": "stdout",
     "output_type": "stream",
     "text": [
      "   Unnamed: 0       State  TotalPop Hispanic   White   Black  Native   Asian  \\\n",
      "0           0     Alabama   4830620    3.75%  61.88%  31.25%   0.45%   1.05%   \n",
      "1           1      Alaska    733375    5.91%  60.91%   2.85%  16.39%   5.45%   \n",
      "2           2     Arizona   6641928   29.57%  57.12%   3.85%   4.36%   2.88%   \n",
      "3           3    Arkansas   2958208    6.22%  71.14%  18.97%   0.52%   1.14%   \n",
      "4           4  California  38421464   37.29%  40.22%   5.68%   0.41%  13.05%   \n",
      "\n",
      "  Pacific    Income   MalePop   FemalePop  \n",
      "0   0.03%  43296.36   2341093   2489527.0  \n",
      "1   1.06%  70354.74    384160    349215.0  \n",
      "2   0.17%  54207.82   3299088   3342840.0  \n",
      "3   0.15%  41935.63   1451913   1506295.0  \n",
      "4   0.35%  67264.78  19087135  19334329.0  \n"
     ]
    }
   ],
   "source": [
    "print(states.head())"
   ]
  },
  {
   "cell_type": "markdown",
   "metadata": {},
   "source": [
    "8. Now you should have the columns you need to make the graph and make sure your boss does not slam a ruler angrily on your desk because you've wasted your whole day cleaning your data with no results to show!\n",
    "\n",
    "   Use matplotlib to make a scatterplot!\n",
    "   \n",
    "   ```py\n",
    "   plt.scatter(the_women_column, the_income_column)\n",
    "   ```\n",
    "   \n",
    "   Remember to call `plt.show()` to see the graph!"
   ]
  },
  {
   "cell_type": "code",
   "execution_count": 69,
   "metadata": {},
   "outputs": [
    {
     "name": "stderr",
     "output_type": "stream",
     "text": [
      "<ipython-input-69-c1a8d74b6e6f>:1: UserWarning: Pandas doesn't allow columns to be created via a new attribute name - see https://pandas.pydata.org/pandas-docs/stable/indexing.html#attribute-access\n",
      "  states.f_prop = states.FemalePop/(states.FemalePop + states.MalePop)*100\n",
      "<ipython-input-69-c1a8d74b6e6f>:2: UserWarning: Pandas doesn't allow columns to be created via a new attribute name - see https://pandas.pydata.org/pandas-docs/stable/indexing.html#attribute-access\n",
      "  states.m_prop = states.MalePop/(states.FemalePop + states.MalePop)*100\n"
     ]
    },
    {
     "data": {
      "image/png": "[encoded data removed]",
      "text/plain": [
       "<Figure size 432x288 with 1 Axes>"
      ]
     },
     "metadata": {
      "needs_background": "light"
     },
     "output_type": "display_data"
    }
   ],
   "source": [
    "states.f_prop = states.FemalePop/(states.FemalePop + states.MalePop)*100\n",
    "states.m_prop = states.MalePop/(states.FemalePop + states.MalePop)*100\n",
    "plt.scatter(states.f_prop, states.Income)\n",
    "plt.title(\"Income by Proportion of Female\")\n",
    "plt.xlabel(\"Proportion of Female\")\n",
    "plt.ylabel(\"Income\")\n",
    "plt.show()\n",
    "plt.close()"
   ]
  },
  {
   "cell_type": "markdown",
   "metadata": {},
   "source": [
    "9. You want to double check your work. You know from experience that these monstrous csv files probably have `nan` values in them! Print out your column with the number of women per state to see.\n",
    "\n",
    "   We can fill in those `nan`s by using pandas' `.fillna()` function.\n",
    "   \n",
    "   You have the `TotalPop` per state, and you have the `Men` per state. As an estimate for the `nan` values in the `Women` column, you could use the `TotalPop` of that state minus the `Men` for that state.\n",
    "   \n",
    "   Print out the `Women` column after filling the `nan` values to see if it worked!"
   ]
  },
  {
   "cell_type": "code",
   "execution_count": 70,
   "metadata": {},
   "outputs": [
    {
     "name": "stdout",
     "output_type": "stream",
     "text": [
      "3\n"
     ]
    },
    {
     "data": {
      "text/plain": [
       "0"
      ]
     },
     "execution_count": 70,
     "metadata": {},
     "output_type": "execute_result"
    }
   ],
   "source": [
    "print(states.FemalePop.isna().sum()) #we see there are multiple NAs\n",
    "\n",
    "states = states.fillna(value={\"FemalePop\": states.TotalPop - states.MalePop})\n",
    "states.FemalePop.isna().sum()"
   ]
  },
  {
   "cell_type": "markdown",
   "metadata": {},
   "source": [
    "10. We forgot to check for duplicates! Use `.duplicated()` on your `census` DataFrame to see if we have duplicate rows in there."
   ]
  },
  {
   "cell_type": "code",
   "execution_count": 74,
   "metadata": {},
   "outputs": [
    {
     "data": {
      "text/plain": [
       "9"
      ]
     },
     "execution_count": 74,
     "metadata": {},
     "output_type": "execute_result"
    }
   ],
   "source": [
    "states.duplicated(subset=['State']).sum() # we see that there are no duplicates"
   ]
  },
  {
   "cell_type": "markdown",
   "metadata": {},
   "source": [
    "11. Drop those duplicates using the `.drop_duplicates()` function."
   ]
  },
  {
   "cell_type": "code",
   "execution_count": 77,
   "metadata": {},
   "outputs": [
    {
     "data": {
      "text/plain": [
       "(51, 12)"
      ]
     },
     "execution_count": 77,
     "metadata": {},
     "output_type": "execute_result"
    }
   ],
   "source": [
    "states = states.drop_duplicates(subset=['State'])\n",
    "\n",
    "states.shape # we see that there are now 51 rows (for each state/territory) rather than 60"
   ]
  },
  {
   "cell_type": "markdown",
   "metadata": {},
   "source": [
    "12. Make the scatterplot again. Now, it should be perfect! Your job is secure, for now."
   ]
  },
  {
   "cell_type": "code",
   "execution_count": 80,
   "metadata": {},
   "outputs": [
    {
     "data": {
      "image/png": "[encoded data removed]",
      "text/plain": [
       "<Figure size 432x288 with 1 Axes>"
      ]
     },
     "metadata": {
      "needs_background": "light"
     },
     "output_type": "display_data"
    }
   ],
   "source": [
    "states.f_prop = states.FemalePop/(states.FemalePop + states.MalePop)*100\n",
    "states.m_prop = states.MalePop/(states.FemalePop + states.MalePop)*100\n",
    "plt.scatter(states.f_prop, states.Income)\n",
    "plt.title(\"Income by Proportion of Female\")\n",
    "plt.xlabel(\"Proportion of Female\")\n",
    "plt.ylabel(\"Income\")\n",
    "plt.show()\n",
    "plt.close()"
   ]
  },
  {
   "cell_type": "markdown",
   "metadata": {},
   "source": [
    "## Histogram of Races"
   ]
  },
  {
   "cell_type": "markdown",
   "metadata": {},
   "source": [
    "13. Now your boss wants you to make a bunch of histograms out of the race data that you have. Look at the `.columns` again to see what the race categories are."
   ]
  },
  {
   "cell_type": "code",
   "execution_count": 81,
   "metadata": {},
   "outputs": [
    {
     "data": {
      "text/plain": [
       "Index(['Unnamed: 0', 'State', 'TotalPop', 'Hispanic', 'White', 'Black',\n",
       "       'Native', 'Asian', 'Pacific', 'Income', 'MalePop', 'FemalePop'],\n",
       "      dtype='object')"
      ]
     },
     "execution_count": 81,
     "metadata": {},
     "output_type": "execute_result"
    }
   ],
   "source": [
    "states.columns"
   ]
  },
  {
   "cell_type": "code",
   "execution_count": 82,
   "metadata": {},
   "outputs": [
    {
     "data": {
      "text/html": [
       "<div>\n",
       "<style scoped>\n",
       "    .dataframe tbody tr th:only-of-type {\n",
       "        vertical-align: middle;\n",
       "    }\n",
       "\n",
       "    .dataframe tbody tr th {\n",
       "        vertical-align: top;\n",
       "    }\n",
       "\n",
       "    .dataframe thead th {\n",
       "        text-align: right;\n",
       "    }\n",
       "</style>\n",
       "<table border=\"1\" class=\"dataframe\">\n",
       "  <thead>\n",
       "    <tr style=\"text-align: right;\">\n",
       "      <th></th>\n",
       "      <th>Unnamed: 0</th>\n",
       "      <th>State</th>\n",
       "      <th>TotalPop</th>\n",
       "      <th>Hispanic</th>\n",
       "      <th>White</th>\n",
       "      <th>Black</th>\n",
       "      <th>Native</th>\n",
       "      <th>Asian</th>\n",
       "      <th>Pacific</th>\n",
       "      <th>Income</th>\n",
       "      <th>MalePop</th>\n",
       "      <th>FemalePop</th>\n",
       "    </tr>\n",
       "  </thead>\n",
       "  <tbody>\n",
       "    <tr>\n",
       "      <th>0</th>\n",
       "      <td>0</td>\n",
       "      <td>Alabama</td>\n",
       "      <td>4830620</td>\n",
       "      <td>3.75%</td>\n",
       "      <td>61.88%</td>\n",
       "      <td>31.25%</td>\n",
       "      <td>0.45%</td>\n",
       "      <td>1.05%</td>\n",
       "      <td>0.03%</td>\n",
       "      <td>43296.36</td>\n",
       "      <td>2341093</td>\n",
       "      <td>2489527.0</td>\n",
       "    </tr>\n",
       "    <tr>\n",
       "      <th>1</th>\n",
       "      <td>1</td>\n",
       "      <td>Alaska</td>\n",
       "      <td>733375</td>\n",
       "      <td>5.91%</td>\n",
       "      <td>60.91%</td>\n",
       "      <td>2.85%</td>\n",
       "      <td>16.39%</td>\n",
       "      <td>5.45%</td>\n",
       "      <td>1.06%</td>\n",
       "      <td>70354.74</td>\n",
       "      <td>384160</td>\n",
       "      <td>349215.0</td>\n",
       "    </tr>\n",
       "    <tr>\n",
       "      <th>2</th>\n",
       "      <td>2</td>\n",
       "      <td>Arizona</td>\n",
       "      <td>6641928</td>\n",
       "      <td>29.57%</td>\n",
       "      <td>57.12%</td>\n",
       "      <td>3.85%</td>\n",
       "      <td>4.36%</td>\n",
       "      <td>2.88%</td>\n",
       "      <td>0.17%</td>\n",
       "      <td>54207.82</td>\n",
       "      <td>3299088</td>\n",
       "      <td>3342840.0</td>\n",
       "    </tr>\n",
       "    <tr>\n",
       "      <th>3</th>\n",
       "      <td>3</td>\n",
       "      <td>Arkansas</td>\n",
       "      <td>2958208</td>\n",
       "      <td>6.22%</td>\n",
       "      <td>71.14%</td>\n",
       "      <td>18.97%</td>\n",
       "      <td>0.52%</td>\n",
       "      <td>1.14%</td>\n",
       "      <td>0.15%</td>\n",
       "      <td>41935.63</td>\n",
       "      <td>1451913</td>\n",
       "      <td>1506295.0</td>\n",
       "    </tr>\n",
       "    <tr>\n",
       "      <th>4</th>\n",
       "      <td>4</td>\n",
       "      <td>California</td>\n",
       "      <td>38421464</td>\n",
       "      <td>37.29%</td>\n",
       "      <td>40.22%</td>\n",
       "      <td>5.68%</td>\n",
       "      <td>0.41%</td>\n",
       "      <td>13.05%</td>\n",
       "      <td>0.35%</td>\n",
       "      <td>67264.78</td>\n",
       "      <td>19087135</td>\n",
       "      <td>19334329.0</td>\n",
       "    </tr>\n",
       "  </tbody>\n",
       "</table>\n",
       "</div>"
      ],
      "text/plain": [
       "   Unnamed: 0       State  TotalPop Hispanic   White   Black  Native   Asian  \\\n",
       "0           0     Alabama   4830620    3.75%  61.88%  31.25%   0.45%   1.05%   \n",
       "1           1      Alaska    733375    5.91%  60.91%   2.85%  16.39%   5.45%   \n",
       "2           2     Arizona   6641928   29.57%  57.12%   3.85%   4.36%   2.88%   \n",
       "3           3    Arkansas   2958208    6.22%  71.14%  18.97%   0.52%   1.14%   \n",
       "4           4  California  38421464   37.29%  40.22%   5.68%   0.41%  13.05%   \n",
       "\n",
       "  Pacific    Income   MalePop   FemalePop  \n",
       "0   0.03%  43296.36   2341093   2489527.0  \n",
       "1   1.06%  70354.74    384160    349215.0  \n",
       "2   0.17%  54207.82   3299088   3342840.0  \n",
       "3   0.15%  41935.63   1451913   1506295.0  \n",
       "4   0.35%  67264.78  19087135  19334329.0  "
      ]
     },
     "execution_count": 82,
     "metadata": {},
     "output_type": "execute_result"
    }
   ],
   "source": [
    "states.head()"
   ]
  },
  {
   "cell_type": "markdown",
   "metadata": {},
   "source": [
    "14. Try to make a histogram for each one!"
   ]
  },
  {
   "cell_type": "code",
   "execution_count": 96,
   "metadata": {},
   "outputs": [
    {
     "name": "stdout",
     "output_type": "stream",
     "text": [
      "   Unnamed: 0       State  TotalPop Hispanic  White  Black Native  Asian  \\\n",
      "0           0     Alabama   4830620     3.75  61.88  31.25   0.45   1.05   \n",
      "1           1      Alaska    733375     5.91  60.91   2.85  16.39   5.45   \n",
      "2           2     Arizona   6641928    29.57  57.12   3.85   4.36   2.88   \n",
      "3           3    Arkansas   2958208     6.22  71.14  18.97   0.52   1.14   \n",
      "4           4  California  38421464    37.29  40.22   5.68   0.41  13.05   \n",
      "\n",
      "  Pacific    Income   MalePop   FemalePop  \n",
      "0    0.03  43296.36   2341093   2489527.0  \n",
      "1    1.06  70354.74    384160    349215.0  \n",
      "2    0.17  54207.82   3299088   3342840.0  \n",
      "3    0.15  41935.63   1451913   1506295.0  \n",
      "4    0.35  67264.78  19087135  19334329.0  \n"
     ]
    }
   ],
   "source": [
    "columns = ['Hispanic','White','Black','Native','Asian','Pacific']\n",
    "\n",
    "states[columns] = states[columns].replace('[\\%,]', '', regex=True)\n",
    "\n",
    "print(states.head())"
   ]
  },
  {
   "cell_type": "code",
   "execution_count": 97,
   "metadata": {},
   "outputs": [
    {
     "data": {
      "text/plain": [
       "Unnamed: 0    0\n",
       "State         0\n",
       "TotalPop      0\n",
       "Hispanic      0\n",
       "White         0\n",
       "Black         0\n",
       "Native        0\n",
       "Asian         0\n",
       "Pacific       0\n",
       "Income        0\n",
       "MalePop       0\n",
       "FemalePop     0\n",
       "dtype: int64"
      ]
     },
     "execution_count": 97,
     "metadata": {},
     "output_type": "execute_result"
    }
   ],
   "source": [
    "#print(states.isna().sum()) # Check for NAs\n",
    "\n",
    "states = states.fillna(value={\"Pacific\": (100 - states[columns].sum(axis=1))}) #subtract total of all other races to fill NA\n",
    "states.isna().sum() # We see there are no more NA's for Pacific!"
   ]
  },
  {
   "cell_type": "code",
   "execution_count": null,
   "metadata": {},
   "outputs": [],
   "source": [
    "# Histograms"
   ]
  },
  {
   "cell_type": "markdown",
   "metadata": {},
   "source": [
    "## Get Creative"
   ]
  },
  {
   "cell_type": "markdown",
   "metadata": {},
   "source": [
    "15. Phew. You've definitely impressed your boss on your first day of work.\n",
    "\n",
    "    But is there a way you really convey the power of pandas and Python over the drudgery of `csv` and Excel?\n",
    "    \n",
    "    Try to make some more interesting graphs to show your boss, and the world! You may need to clean the data even more to do it, or the cleaning you have already done may give you the ease of manipulation you've been searching for."
   ]
  },
  {
   "cell_type": "code",
   "execution_count": null,
   "metadata": {},
   "outputs": [],
   "source": []
  }
 ],
 "metadata": {
  "kernelspec": {
   "display_name": "Python 3",
   "language": "python",
   "name": "python3"
  },
  "language_info": {
   "codemirror_mode": {
    "name": "ipython",
    "version": 3
   },
   "file_extension": ".py",
   "mimetype": "text/x-python",
   "name": "python",
   "nbconvert_exporter": "python",
   "pygments_lexer": "ipython3",
   "version": "3.8.5"
  }
 },
 "nbformat": 4,
 "nbformat_minor": 2
}
